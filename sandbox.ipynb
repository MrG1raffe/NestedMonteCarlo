{
 "cells": [
  {
   "cell_type": "code",
   "execution_count": 2,
   "metadata": {},
   "outputs": [],
   "source": [
    "import numpy as np"
   ]
  },
  {
   "cell_type": "code",
   "execution_count": 5,
   "metadata": {},
   "outputs": [],
   "source": [
    "class NestedMonteCarlo:\n",
    "    simulate_scenario : callable # function of (size)\n",
    "    simulate_inner_loss : callable # function of (scenario, size)\n",
    "    loss_threshold : float\n",
    "\n",
    "    def __init__(self, simulate_scenario, simulate_inner_loss) -> None:\n",
    "        self.simulate_scenario = simulate_scenario\n",
    "        self.simulate_inner_loss = simulate_inner_loss"
   ]
  },
  {
   "attachments": {},
   "cell_type": "markdown",
   "metadata": {},
   "source": [
    "## Gaussian example"
   ]
  },
  {
   "cell_type": "code",
   "execution_count": 6,
   "metadata": {},
   "outputs": [
    {
     "ename": "NameError",
     "evalue": "name 'c_arr' is not defined",
     "output_type": "error",
     "traceback": [
      "\u001b[0;31m---------------------------------------------------------------------------\u001b[0m",
      "\u001b[0;31mNameError\u001b[0m                                 Traceback (most recent call last)",
      "Cell \u001b[0;32mIn[6], line 9\u001b[0m\n\u001b[1;32m      6\u001b[0m \u001b[39mdef\u001b[39;00m \u001b[39mgaussian_simulate_inner_loss\u001b[39m(size, scenario, sigma_inner : \u001b[39mfloat\u001b[39m \u001b[39m=\u001b[39m \u001b[39m5\u001b[39m, rng : np\u001b[39m.\u001b[39mrandom\u001b[39m.\u001b[39mGenerator \u001b[39m=\u001b[39m rng):\n\u001b[1;32m      7\u001b[0m     \u001b[39mreturn\u001b[39;00m \u001b[39m-\u001b[39mscenario \u001b[39m+\u001b[39m rng\u001b[39m.\u001b[39mnormal(loc\u001b[39m=\u001b[39m\u001b[39m0\u001b[39m, scale\u001b[39m=\u001b[39msigma_inner, size\u001b[39m=\u001b[39msize)\n\u001b[0;32m----> 9\u001b[0m c_arr \n",
      "\u001b[0;31mNameError\u001b[0m: name 'c_arr' is not defined"
     ]
    }
   ],
   "source": [
    "rng = np.random.default_rng(seed=0xBADBADBAD)\n",
    "\n",
    "def gaussian_simulate_scenario(size, sigma_outer : float = 1, rng : np.random.Generator = rng):\n",
    "    return rng.normal(loc=0, scale=sigma_outer, size=size)\n",
    "\n",
    "def gaussian_simulate_inner_loss(size, scenario, sigma_inner : float = 5, rng : np.random.Generator = rng):\n",
    "    return -scenario + rng.normal(loc=0, scale=sigma_inner, size=size)"
   ]
  },
  {
   "cell_type": "code",
   "execution_count": null,
   "metadata": {},
   "outputs": [],
   "source": []
  }
 ],
 "metadata": {
  "kernelspec": {
   "display_name": "base",
   "language": "python",
   "name": "python3"
  },
  "language_info": {
   "codemirror_mode": {
    "name": "ipython",
    "version": 3
   },
   "file_extension": ".py",
   "mimetype": "text/x-python",
   "name": "python",
   "nbconvert_exporter": "python",
   "pygments_lexer": "ipython3",
   "version": "3.8.5"
  },
  "orig_nbformat": 4
 },
 "nbformat": 4,
 "nbformat_minor": 2
}
