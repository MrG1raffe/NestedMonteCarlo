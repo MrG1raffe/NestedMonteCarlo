{
 "cells": [
  {
   "cell_type": "code",
   "execution_count": 260,
   "metadata": {},
   "outputs": [],
   "source": [
    "import numpy as np\n",
    "from numba import njit\n",
    "from numba_stats import norm"
   ]
  },
  {
   "cell_type": "code",
   "execution_count": 541,
   "metadata": {},
   "outputs": [],
   "source": [
    "from math import erf, sqrt\n",
    "\n",
    "@njit\n",
    "def gaussian_cdf(x):\n",
    "    return 0.5*(1+erf(x / sqrt(2)))"
   ]
  },
  {
   "cell_type": "code",
   "execution_count": 548,
   "metadata": {},
   "outputs": [],
   "source": [
    "@njit\n",
    "def _estimation_uniform_njit(m, n, simulate_scenario, simulate_inner_loss, loss_threshold, inner_loss_std):\n",
    "    scenarios = simulate_scenario(n)\n",
    "    inner_losses_mean = np.zeros(n)\n",
    "\n",
    "    for i, scenario in enumerate(scenarios):\n",
    "        inner_loss = simulate_inner_loss(scenario=scenario, size=m)\n",
    "        inner_losses_mean[i] = np.mean(inner_loss)\n",
    "\n",
    "    estimator = np.mean(inner_losses_mean >= loss_threshold)\n",
    "    return estimator\n",
    "\n",
    "@njit\n",
    "def _estimation_sequential_njit(m_init, m_average, n, simulate_scenario, simulate_inner_loss, loss_threshold, inner_loss_std):\n",
    "    scenarios = simulate_scenario(n)\n",
    "    sigmas = inner_loss_std(scenarios)\n",
    "    m_array = np.zeros(n)\n",
    "    inner_losses_mean = np.zeros(n)\n",
    "\n",
    "    for i, scenario in enumerate(scenarios):\n",
    "        inner_loss = simulate_inner_loss(scenario=scenario, size=m_init)\n",
    "        inner_losses_mean[i] = np.mean(inner_loss)\n",
    "    m_array += m_init\n",
    "\n",
    "    while np.sum(m_array) < m_average * n:\n",
    "         idx_scenario = np.argmin(m_array * np.abs(inner_losses_mean - loss_threshold) / sigmas)\n",
    "         new_inner_loss = simulate_inner_loss(scenario=scenarios[idx_scenario], size=1)[0]\n",
    "         inner_losses_mean[idx_scenario] = m_array[idx_scenario] / (m_array[idx_scenario] + 1) * inner_losses_mean[idx_scenario] + new_inner_loss / (m_array[idx_scenario] + 1)\n",
    "         m_array[idx_scenario] += 1\n",
    "\n",
    "    estimator = np.mean(inner_losses_mean >= loss_threshold)\n",
    "\n",
    "    return (estimator, inner_losses_mean, m_array)\n",
    "\n",
    "@njit\n",
    "def _estimation_threshold_njit(error_margin, n, simulate_scenario, simulate_inner_loss, loss_threshold, inner_loss_std):\n",
    "    scenarios = simulate_scenario(n)\n",
    "    sigmas = inner_loss_std(scenarios)\n",
    "    inner_losses_mean = np.zeros(n)\n",
    "\n",
    "    for i, scenario in enumerate(scenarios):\n",
    "        inner_loss_mean = 0\n",
    "        m_scenario = 0\n",
    "        while m_scenario / sigmas[i] * np.abs(inner_loss_mean - loss_threshold) < error_margin:\n",
    "            new_inner_loss = simulate_inner_loss(scenario=scenario, size=1)[0]\n",
    "            inner_loss_mean = m_scenario / (m_scenario + 1) * inner_loss_mean + new_inner_loss / (m_scenario + 1)\n",
    "            m_scenario += 1\n",
    "        inner_losses_mean[i] = inner_loss_mean\n",
    "\n",
    "    estimator = np.mean(inner_losses_mean >= loss_threshold)\n",
    "    return estimator\n",
    "\n",
    "@njit\n",
    "def _estimation_adaptive_njit(n_0, m_0, tau_e, k, simulate_scenario, simulate_inner_loss, loss_threshold, inner_loss_std, estimate_inner_std=False):\n",
    "    N_MAX = k\n",
    "    m_average, n = m_0, n_0\n",
    "\n",
    "    scenarios = np.zeros(N_MAX)\n",
    "    scenarios[:n] = simulate_scenario(n)\n",
    "    sigmas = np.zeros(N_MAX)\n",
    "    if not estimate_inner_std:\n",
    "        sigmas[:n] = inner_loss_std(scenarios[:n])\n",
    "\n",
    "    m_array = np.zeros(N_MAX)\n",
    "    inner_losses_mean = np.zeros(N_MAX)\n",
    "    if estimate_inner_std:\n",
    "        squared_inner_losses_mean = np.zeros(N_MAX)\n",
    "\n",
    "    for i, scenario in enumerate(scenarios[:n]):\n",
    "        inner_loss = simulate_inner_loss(scenario=scenario, size=m_0)\n",
    "        inner_losses_mean[i] = np.mean(inner_loss)\n",
    "        if estimate_inner_std:\n",
    "            squared_inner_losses_mean[i] = np.mean(inner_loss**2)\n",
    "    m_array[:n] = m_0\n",
    "    \n",
    "    if estimate_inner_std:\n",
    "        sigmas[:n] = np.sqrt(squared_inner_losses_mean[:n] - inner_losses_mean[:n]**2)\n",
    "\n",
    "    for l in range(int(np.ceil(k / tau_e))):\n",
    "        alpha_bar = np.mean(np.array(list(map(gaussian_cdf, m_array[:n] * (inner_losses_mean[:n] - loss_threshold) / sigmas[:n]))))\n",
    "        alpha_hat = np.mean(inner_losses_mean[:n] >= loss_threshold)\n",
    "        bias = alpha_hat - alpha_bar\n",
    "        variance = alpha_bar * (1 - alpha_bar) / n\n",
    "        n_new = int(min(\n",
    "            max(((variance * n)**0.2 * (m_average * n + tau_e)**0.8) / (4 * bias**2 * m_average**4)**0.2, n),\n",
    "            n + tau_e)\n",
    "        )\n",
    "        n_to_add = n_new - n\n",
    "        if n_to_add > 0:\n",
    "            scenarios_to_add = simulate_scenario(n_to_add) \n",
    "            scenarios[n:n_new] = scenarios_to_add\n",
    "            if not estimate_inner_std:\n",
    "                 sigmas[n:n_new] = inner_loss_std(scenarios_to_add)\n",
    "\n",
    "        while np.sum(m_array[:n_new]) < (l + 1) * tau_e:\n",
    "            idx_scenario = np.argmin(m_array[:n_new]) if np.min(m_array[:n_new]) < m_0 else np.argmin(m_array[:n_new] * np.abs(inner_losses_mean[:n_new] - loss_threshold) / sigmas[:n_new])\n",
    "            new_inner_loss = simulate_inner_loss(scenario=scenarios[idx_scenario], size=1)[0]\n",
    "            inner_losses_mean[idx_scenario] = m_array[idx_scenario] / (m_array[idx_scenario] + 1) * inner_losses_mean[idx_scenario] + new_inner_loss / (m_array[idx_scenario] + 1)\n",
    "            if estimate_inner_std:\n",
    "                squared_inner_losses_mean[idx_scenario] = m_array[idx_scenario] / (m_array[idx_scenario] + 1) * squared_inner_losses_mean[idx_scenario] + new_inner_loss**2 / (m_array[idx_scenario] + 1)\n",
    "                sigmas[idx_scenario] = np.sqrt(squared_inner_losses_mean[idx_scenario] - inner_losses_mean[idx_scenario]**2) \n",
    "            m_array[idx_scenario] += 1\n",
    "\n",
    "        m_average, n = np.mean(m_array[:n_new]), n_new\n",
    "    estimator = np.mean(inner_losses_mean[:n] >= loss_threshold)\n",
    "    return estimator"
   ]
  },
  {
   "cell_type": "code",
   "execution_count": 549,
   "metadata": {},
   "outputs": [],
   "source": [
    "class NestedMonteCarlo:\n",
    "    \"\"\"\n",
    "    Hereafter, n stands for the number of scenario simulations, m stands for the number of internal loss simulations par scenario.\n",
    "    \"\"\"\n",
    "    simulate_scenario : callable # function of (size)\n",
    "    simulate_inner_loss : callable # function of (scenario, size)\n",
    "    loss_threshold : float\n",
    "    inner_loss_std: callable # function of (scenario)\n",
    "\n",
    "    def __init__(self, simulate_scenario, simulate_inner_loss, loss_threshold, inner_loss_std) -> None:\n",
    "        self.simulate_scenario = simulate_scenario\n",
    "        self.simulate_inner_loss = simulate_inner_loss\n",
    "        self.loss_threshold = loss_threshold\n",
    "        self.inner_loss_std = inner_loss_std\n",
    "\n",
    "    def estimation_uniform(self, m, n):\n",
    "        return _estimation_uniform_njit(m, n, self.simulate_scenario, self.simulate_inner_loss, self.loss_threshold, self.inner_loss_std)\n",
    "\n",
    "    def estimation_sequential(self, m_init, m_average, n, return_info=False):\n",
    "        estimator, inner_losses_mean, m_array = _estimation_sequential_njit(m_init, m_average, n, self.simulate_scenario, self.simulate_inner_loss, self.loss_threshold, self.inner_loss_std)\n",
    "        return (estimator, inner_losses_mean, m_array) if return_info else estimator\n",
    "    \n",
    "    def estimation_threshold(self, error_margin, n):\n",
    "        return _estimation_threshold_njit(error_margin, n, self.simulate_scenario, self.simulate_inner_loss, self.loss_threshold, self.inner_loss_std)\n",
    "    \n",
    "    def estimation_adaptive(self, n_0, m_0, tau_e, k, estimate_inner_std=False):\n",
    "        return _estimation_adaptive_njit(n_0, m_0, tau_e, k, self.simulate_scenario, self.simulate_inner_loss, self.loss_threshold, self.inner_loss_std, estimate_inner_std=False)\n",
    "    "
   ]
  },
  {
   "attachments": {},
   "cell_type": "markdown",
   "metadata": {},
   "source": [
    "## Gaussian example"
   ]
  },
  {
   "cell_type": "code",
   "execution_count": 550,
   "metadata": {},
   "outputs": [
    {
     "data": {
      "text/plain": [
       "array(0.01)"
      ]
     },
     "execution_count": 550,
     "metadata": {},
     "output_type": "execute_result"
    }
   ],
   "source": [
    "sigma_inner = 5\n",
    "sigma_outer = 1\n",
    "\n",
    "@njit\n",
    "def gaussian_simulate_scenario(size):\n",
    "    return np.random.randn(size) * sigma_outer\n",
    "\n",
    "@njit\n",
    "def gaussian_simulate_inner_loss(scenario, size):\n",
    "    return -scenario + np.random.randn(size) * np.sqrt(sigma_inner)\n",
    "\n",
    "@njit\n",
    "def gaussian_inner_std(scenarios):\n",
    "    return np.ones_like(scenarios) * sigma_inner\n",
    "\n",
    "threshold_gauss = 2.3263478740408408 # corresponds to loss of 1%\n",
    "norm.cdf(-threshold_gauss, loc=0, scale=1)"
   ]
  },
  {
   "cell_type": "code",
   "execution_count": 551,
   "metadata": {},
   "outputs": [],
   "source": [
    "nested_mc_gauss = NestedMonteCarlo(\n",
    "    simulate_scenario=gaussian_simulate_scenario,\n",
    "    simulate_inner_loss=gaussian_simulate_inner_loss,\n",
    "    loss_threshold=threshold_gauss,\n",
    "    inner_loss_std=gaussian_inner_std\n",
    ")"
   ]
  },
  {
   "attachments": {},
   "cell_type": "markdown",
   "metadata": {},
   "source": [
    "### Sanity check for all algorithms"
   ]
  },
  {
   "attachments": {},
   "cell_type": "markdown",
   "metadata": {},
   "source": [
    "Optimal values of $n$ and $m$ corresponding to the budget $k = 4 \\cdot 10^6$."
   ]
  },
  {
   "cell_type": "code",
   "execution_count": 457,
   "metadata": {},
   "outputs": [],
   "source": [
    "n_opt = 4499\n",
    "m_opt = 889"
   ]
  },
  {
   "cell_type": "code",
   "execution_count": 377,
   "metadata": {},
   "outputs": [
    {
     "data": {
      "text/plain": [
       "0.008224049788841965"
      ]
     },
     "execution_count": 377,
     "metadata": {},
     "output_type": "execute_result"
    }
   ],
   "source": [
    "nested_mc_gauss.estimation_uniform(m=m_opt, n=n_opt)"
   ]
  },
  {
   "cell_type": "code",
   "execution_count": 279,
   "metadata": {},
   "outputs": [
    {
     "data": {
      "text/plain": [
       "0.008446321404756613"
      ]
     },
     "execution_count": 279,
     "metadata": {},
     "output_type": "execute_result"
    }
   ],
   "source": [
    "nested_mc_gauss.estimation_sequential(m_init=2, m_average=m_opt, n=n_opt)"
   ]
  },
  {
   "cell_type": "code",
   "execution_count": 421,
   "metadata": {},
   "outputs": [
    {
     "data": {
      "text/plain": [
       "0.00866859302067126"
      ]
     },
     "execution_count": 421,
     "metadata": {},
     "output_type": "execute_result"
    }
   ],
   "source": [
    "nested_mc_gauss.estimation_threshold(error_margin=50, n=n_opt)"
   ]
  },
  {
   "cell_type": "code",
   "execution_count": null,
   "metadata": {},
   "outputs": [],
   "source": [
    "nested_mc_gauss.estimation_adaptive(n_0=500, m_0=2, tau_e=100_000, k=4_000_000)"
   ]
  },
  {
   "cell_type": "code",
   "execution_count": 553,
   "metadata": {},
   "outputs": [
    {
     "data": {
      "text/plain": [
       "0.010642652476463364"
      ]
     },
     "execution_count": 553,
     "metadata": {},
     "output_type": "execute_result"
    }
   ],
   "source": [
    "nested_mc_gauss.estimation_adaptive(n_0=500, m_0=2, tau_e=100_000, k=100_000, estimate_inner_std=True)"
   ]
  },
  {
   "attachments": {},
   "cell_type": "markdown",
   "metadata": {},
   "source": [
    "## Put option example"
   ]
  },
  {
   "cell_type": "code",
   "execution_count": null,
   "metadata": {},
   "outputs": [],
   "source": [
    "rng = np.random.default_rng(seed=0xBADBADBAD)\n",
    "\n",
    "model_params = {\n",
    "    'S0': 100,\n",
    "    'K': 95,\n",
    "    'T': 0.25,\n",
    "    'tau': 1 / 52,\n",
    "    'sigma': 0.2,\n",
    "    'mu': 0.08,\n",
    "    'r': 0.03,\n",
    "    'X0': 1.669 # by BS formula\n",
    "}\n",
    "\n",
    "@njit\n",
    "def put_simulate_scenario(size):\n",
    "    return model_params['S0'] * np.exp(\n",
    "        (model_params['mu'] - 0.5 * model_params['sigma']**2) * model_params['tau'] + \n",
    "         model_params['sigma'] * np.sqrt(model_params['tau']) * np.randon.randn(size)\n",
    "    )\n",
    "\n",
    "@njit\n",
    "def put_simulate_inner_loss(size, scenario):\n",
    "    S_T = scenario * np.exp(\n",
    "        (model_params['r'] - 0.5 * model_params['sigma']**2) * (model_params['T'] - model_params['tau']) + \n",
    "         model_params['sigma'] * np.sqrt(model_params['T'] - model_params['tau']) * np.random.randn(size)\n",
    "    )\n",
    "    return model_params['X0'] - np.exp(-model_params['r'] * (model_params['T'] - model_params['tau'])) * np.maximum(0, model_params['K'] - S_T)\n",
    "\n",
    "@njit\n",
    "def bs_put(scenario):\n",
    "    \"\"\"\n",
    "    Calculates the value of the put option with expiration T and strike K at t = tau given the scenario S_tau.\n",
    "    \"\"\"\n",
    "    S_tau, K, T, tau, sigma, r = scenario, model_params['K'], model_params['T'], model_params['tau'], model_params['sigma'], model_params['r']\n",
    "    d1 = (np.log(S_tau / K) + (r + 0.5 * sigma**2) * (T - tau)) / sigma / np.sqrt(T - tau)\n",
    "    d2 = (np.log(S_tau / K) + (r - 0.5 * sigma**2) * (T - tau)) / sigma / np.sqrt(T - tau)\n",
    "    return K * np.exp(-r * (T - tau)) * gaussian_cdf(-d2) - S_tau * gaussian_cdf(-d1)\n",
    "\n",
    "@njit\n",
    "def bs_inner_vol(scenario):\n",
    "    \"\"\"\n",
    "    Calculates standard deviation for a given scenario S_tau.\n",
    "    \"\"\"\n",
    "    S_tau, K, T, tau, sigma, r = scenario, model_params['K'], model_params['T'], model_params['tau'], model_params['sigma'], model_params['r']\n",
    "    d1 = (np.log(S_tau / K) + (r + 0.5 * sigma**2) * (T - tau)) / sigma / np.sqrt(T - tau)\n",
    "    d2 = (np.log(S_tau / K) + (r - 0.5 * sigma**2) * (T - tau)) / sigma / np.sqrt(T - tau)\n",
    "    second_moment = np.exp(-2 * r * (T - tau)) * K**2 * gaussian_cdf(-d2) - 2 * K * S_tau * np.exp(-r * (T - tau)) * gaussian_cdf(-d1) + \\\n",
    "        S_tau**2 * np.exp(sigma**2 * (T - tau)) * gaussian_cdf(-d2 - 2 * sigma * np.sqrt(T - tau))\n",
    "    return np.sqrt(second_moment - bs_put(scenario)**2)\n",
    "\n",
    "@njit\n",
    "def bs_inner_vol_vect(scenarios):\n",
    "    return np.array(list(map(bs_inner_vol, scenarios)))\n",
    "\n",
    "threshold_put = 1.221 # corresponds to loss of 1%"
   ]
  },
  {
   "cell_type": "code",
   "execution_count": null,
   "metadata": {},
   "outputs": [],
   "source": [
    "nested_mc_put = NestedMonteCarlo(\n",
    "    simulate_scenario=put_simulate_scenario,\n",
    "    simulate_inner_loss=put_simulate_inner_loss,\n",
    "    loss_threshold=threshold_put,\n",
    "    inner_loss_std=bs_inner_vol\n",
    ")"
   ]
  },
  {
   "attachments": {},
   "cell_type": "markdown",
   "metadata": {},
   "source": [
    "### Sanity check for all algorithms"
   ]
  },
  {
   "cell_type": "code",
   "execution_count": 66,
   "metadata": {},
   "outputs": [
    {
     "data": {
      "text/plain": [
       "0.011780395643476329"
      ]
     },
     "execution_count": 66,
     "metadata": {},
     "output_type": "execute_result"
    }
   ],
   "source": [
    "# optimal uniform\n",
    "nested_mc_put.estimation_uniform(m=m_opt, n=n_opt)"
   ]
  },
  {
   "cell_type": "code",
   "execution_count": 67,
   "metadata": {},
   "outputs": [
    {
     "data": {
      "text/plain": [
       "0.02091352831461566"
      ]
     },
     "execution_count": 67,
     "metadata": {},
     "output_type": "execute_result"
    }
   ],
   "source": [
    "# 1/3:2/3 uniform\n",
    "nested_mc_put.estimation_uniform(m=159, n=25199)"
   ]
  },
  {
   "cell_type": "code",
   "execution_count": 41,
   "metadata": {},
   "outputs": [
    {
     "data": {
      "text/plain": [
       "0.010224494332073794"
      ]
     },
     "execution_count": 41,
     "metadata": {},
     "output_type": "execute_result"
    }
   ],
   "source": [
    "nested_mc_put.estimation_sequential(m_init=10, m_average=m_opt, n=n_opt)"
   ]
  },
  {
   "cell_type": "code",
   "execution_count": 42,
   "metadata": {},
   "outputs": [
    {
     "data": {
      "text/plain": [
       "0.009557679484329852"
      ]
     },
     "execution_count": 42,
     "metadata": {},
     "output_type": "execute_result"
    }
   ],
   "source": [
    "nested_mc_put.estimation_threshold(error_margin=50, n=n_opt)"
   ]
  },
  {
   "cell_type": "code",
   "execution_count": 68,
   "metadata": {},
   "outputs": [
    {
     "data": {
      "text/plain": [
       "0.009795497508162915"
      ]
     },
     "execution_count": 68,
     "metadata": {},
     "output_type": "execute_result"
    }
   ],
   "source": [
    "nested_mc_put.estimation_adaptive(n_0=500, m_0=2, tau_e=100_000, k=m_opt*n_opt)"
   ]
  },
  {
   "cell_type": "code",
   "execution_count": 90,
   "metadata": {},
   "outputs": [
    {
     "data": {
      "text/plain": [
       "0.06375092661230541"
      ]
     },
     "execution_count": 90,
     "metadata": {},
     "output_type": "execute_result"
    }
   ],
   "source": [
    "nested_mc_put.estimation_adaptive(n_0=500, m_0=10, tau_e=100_000, k=m_opt*n_opt, estimate_inner_std=True)"
   ]
  },
  {
   "attachments": {},
   "cell_type": "markdown",
   "metadata": {},
   "source": [
    "### Number of inner stage samples "
   ]
  },
  {
   "cell_type": "code",
   "execution_count": 457,
   "metadata": {},
   "outputs": [],
   "source": [
    "import matplotlib.pyplot as plt"
   ]
  },
  {
   "cell_type": "code",
   "execution_count": 406,
   "metadata": {},
   "outputs": [],
   "source": [
    "_, inner_losses_mean_gauss, m_array_gauss = nested_mc_gauss.estimation_sequential(m_init=10, m_average=m_opt, n=n_opt, return_info=True)\n",
    "_, inner_losses_mean_put, m_array_put = nested_mc_put.estimation_sequential(m_init=10, m_average=m_opt, n=n_opt, return_info=True)"
   ]
  },
  {
   "cell_type": "code",
   "execution_count": 459,
   "metadata": {},
   "outputs": [
    {
     "data": {
      "image/png": "[encoded data removed]",
      "text/plain": [
       "<Figure size 1500x500 with 2 Axes>"
      ]
     },
     "metadata": {},
     "output_type": "display_data"
    }
   ],
   "source": [
    "fix, ax = plt.subplots(1, 2, figsize=(15, 5))\n",
    "\n",
    "ax[0].plot(inner_losses_mean_gauss, m_array_gauss, '.', label='Sequential')\n",
    "ax[0].vlines(x=threshold_gauss, ymin=0, ymax=12000, color='r', label='Threshold')\n",
    "ax[0].hlines(m, -7, 4, color='k', ls='--', label='Uniform')\n",
    "ax[0].legend()\n",
    "ax[0].set_title(r'Gaussian exemple, $\\alpha = 1\\%$')\n",
    "ax[0].set_xlabel('Average loss $L(\\omega_i)$')\n",
    "ax[0].set_ylabel('Number of inner stage samples m')\n",
    "ax[0].set_yscale('log')\n",
    "\n",
    "ax[1].plot(inner_losses_mean_put, m_array_put, '.', label='Sequential')\n",
    "ax[1].vlines(x=threshold_put, ymin=0, ymax=12000, color='r', label='Threshold')\n",
    "ax[1].hlines(m, -7, 2, color='k', ls='--', label='Uniform')\n",
    "ax[1].legend()\n",
    "ax[1].set_title(r'Put option exemple, $\\alpha = 1\\%$')\n",
    "ax[1].set_xlabel('Average loss $L(\\omega_i)$')\n",
    "ax[1].set_ylabel('Number of inner stage samples m')\n",
    "ax[1].set_yscale('log')"
   ]
  },
  {
   "attachments": {},
   "cell_type": "markdown",
   "metadata": {},
   "source": [
    "ToDo:\n",
    "- Estimate the error distribution for each method (see the table in the article + plot histograms) for alpha = 1%"
   ]
  },
  {
   "attachments": {},
   "cell_type": "markdown",
   "metadata": {},
   "source": []
  }
 ],
 "metadata": {
  "kernelspec": {
   "display_name": "base",
   "language": "python",
   "name": "python3"
  },
  "language_info": {
   "codemirror_mode": {
    "name": "ipython",
    "version": 3
   },
   "file_extension": ".py",
   "mimetype": "text/x-python",
   "name": "python",
   "nbconvert_exporter": "python",
   "pygments_lexer": "ipython3",
   "version": "3.8.5"
  },
  "orig_nbformat": 4
 },
 "nbformat": 4,
 "nbformat_minor": 2
}
