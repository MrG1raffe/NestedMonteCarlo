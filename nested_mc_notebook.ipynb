{
 "cells": [
  {
   "cell_type": "code",
   "execution_count": 2,
   "metadata": {},
   "outputs": [],
   "source": [
    "import numpy as np\n",
    "from numba import njit\n",
    "from numba_stats import norm\n",
    "import matplotlib.pyplot as plt\n",
    "from tqdm import tqdm\n",
    "import pandas as pd\n",
    "import json\n",
    "\n",
    "from nested_mc import NestedMonteCarlo, gaussian_cdf"
   ]
  },
  {
   "attachments": {},
   "cell_type": "markdown",
   "metadata": {},
   "source": [
    "### Introduction\n",
    "\n",
    "The goal of our project was to study and implement 5 nested Monte Carlo methods proposed in the article\n",
    "\n",
    "> M. Broadie, Y. Du, and C. C. Moallemi, “Efficient risk estimation via nested sequential simulation,” Manage. Sci., vol. 57, no. 6, pp. 1172–1194, 2011.\n",
    "\n",
    "The problem we are facing is the estimation of the loss probability\n",
    "$$\n",
    "\\alpha = \\mathbb{P}(L \\geq c)\n",
    "$$\n",
    "for a given threshold $c \\in \\mathbb{R}$. Here, the loss $L$ is a random variable that depends on the realized scenario $\\omega \\in \\Omega$. Hence, two levels appear in the Monte Carlo simulation:\n",
    "1. **Outer level**: simulate the scenarios $\\omega_1, \\ldots, \\omega_n$.\n",
    "2. **Inner level**: for each scenario $\\omega_i$ simulate the loss values $Z_{i, 1}, \\ldots, Z_{i, m_i}$ and approximate $\\hat L(\\omega_i) = \\dfrac{1}{m_i}\\sum_{j=1}^{m_i}Z_{i,j}.$\n",
    "3. Estimate the probability of the loss $L$ exceeding $c$ by\n",
    "$$\n",
    "\\hat \\alpha = \\dfrac1n\\sum_{i=1}^n \\mathbb{I}_{\\hat L(\\omega_i) \\geq c}.\n",
    "$$\n",
    "\n",
    "Several question arises:\n",
    "- Given a computation budget $k$, how to choose optimally the values of $n$ and $m_i, \\ i = 1, \\ldots,  n$ to minimize the MSE of the estimator $\\hat\\alpha$?"
   ]
  },
  {
   "attachments": {},
   "cell_type": "markdown",
   "metadata": {},
   "source": [
    "The following methods were proposed by the authors and implemented within this project:\n",
    "1. **Uniform sampling 1/3:2/3** (Algorithm 1 in the article): in this case $m_i = m$ does not depend on $i$, and we have $k = mn$. It was shown by authors that the optimal allocation is attained for $n \\propto k^{2/3}$ and $m \\propto k^{1/3}$. In this case, the optimal MSE decays as $k^{-2/3}$ which is slower than for standard Monte Carlo. Moreover, the proportionality constant is very difficult to calculate for real-world problems, so one takes simply $n = k^{2/3}$ and $m = k^{1/3}$.\n",
    "2. **Optimal uniform sampling** (still Algorithm 1 in the article): For the considered example, the proportionality constant $\\beta$ mentioned in the description of the first method can be calculated explicitly and we take $n = \\beta k^{2/3}$ and $m = \\dfrac{1}{\\beta}k^{1/3}$. We will see that the role of this constant is crucial for the algorithm's performance.\n",
    "3. **Sequential sampling** (Algorithm 2 in the article): The idea of the sequential algorithm is to generate more inner losses for scenarios $\\omega$ such that $L(\\omega)$ is close to $c$ hence the accurate estimation of this value may change the final estimator involving $\\mathbb{I}_{\\hat L(\\omega_i) \\geq c}$. Thus, at each step on chooses a scenario $\\omega_{i^*}$ such that the probability of change of $\\mathbb{I}_{\\hat L(\\omega_i) \\geq c}$ is the highest. This is achived by taking the scenario with the smallest value of $\\dfrac{m_i}{\\sigma_i}|\\hat L_i - c|$, where $\\sigma_i$ is the volatility of the inner loss given the scenario $\\omega_i$ (assumed to be known). The parameters of the algorithm are $m^0$ - minimal value of $m_i$, $\\bar m$ - average value of $m_i$ such that $k = n\\bar m$, $n$ - number of outer scenarios simulations. For the value of $n$, we took the value obtained by the authors by minimization of the method's MSE. Thus, sequential method will serve as a benchmark other methods to be compared with.\n",
    "4. **Threshold-based method** (Algorithm 3 in the article): This algorithm simulates the inner losses for $n$ outer scenarios one-by-one until the certain value $\\gamma$ of $\\dfrac{m_i}{\\sigma_i}|\\hat L_i - c|$ is attained for each simulated scenario $\\omega_i$. This algorithm is not compared with others as it does not allow to control the computation budget $k$.\n",
    "5. **Adaptive algorithm** (Algorithm 4 in the article): Neither sequential nor threshold-based method do not propose the way to choose $n$. This problem is addressed by the adaptive algorithm that starts with simulation of $n^0$ scenarios and increases this number according to the solution of an optimization problem at the beginning of each epoch of size $\\tau_e$. During each epoch, at least $m^0$ inner losses for each simulated scenario should be generated. Once it is done, the sequential algorithm is applied to already simulated scenarios until the number of inner losses simulations attains $\\tau_e$.\n",
    "6. **Adaptive algorithm with volatility estimation** (still Algorithm 4 in the article): In all the algorithms we considered, $\\sigma_i$ were supposed to be known explicitly, which is not always true in practice. In this algorithm, we estimate the volatility from the sample for simulated inner losses and use $\\hat\\sigma_i$ instead of exact value $\\sigma_i$ for each scenario."
   ]
  },
  {
   "attachments": {},
   "cell_type": "markdown",
   "metadata": {},
   "source": [
    "## Gaussian example"
   ]
  },
  {
   "attachments": {},
   "cell_type": "markdown",
   "metadata": {},
   "source": [
    "We will illustrate the implementation of the algorithms on two examples considered in the article. In the first example, we have\n",
    "$$\n",
    "\\omega \\sim \\mathcal{N}(0, 1)\n",
    "$$\n",
    "and\n",
    "$$\n",
    "Z_{i, j}= -\\omega_i + W_{i, j}, \\quad W_{i, j} \\sim \\mathcal{N}(0, \\sigma_{\\mathrm{outer}}^2)\n",
    "$$\n",
    "with $ \\sigma_{\\mathrm{outer}} = 5$. We take the threshold level $c \\approx 2.326347$ that corresponds to $\\alpha = 0.01$."
   ]
  },
  {
   "cell_type": "code",
   "execution_count": 30,
   "metadata": {},
   "outputs": [
    {
     "data": {
      "text/plain": [
       "array(0.01)"
      ]
     },
     "execution_count": 30,
     "metadata": {},
     "output_type": "execute_result"
    }
   ],
   "source": [
    "sigma_inner = 5\n",
    "sigma_outer = 1\n",
    "\n",
    "@njit\n",
    "def gaussian_simulate_scenario(size):\n",
    "    return np.random.randn(size) * sigma_outer\n",
    "\n",
    "@njit\n",
    "def gaussian_simulate_inner_loss(scenario, size):\n",
    "    return -scenario + np.random.randn(size) * np.sqrt(sigma_inner)\n",
    "\n",
    "@njit\n",
    "def gaussian_inner_std(scenarios):\n",
    "    return np.ones_like(scenarios) * sigma_inner\n",
    "\n",
    "threshold_gauss = 2.3263478740408408 # corresponds to loss of 1%\n",
    "norm.cdf(-threshold_gauss, loc=0, scale=1)"
   ]
  },
  {
   "cell_type": "code",
   "execution_count": 31,
   "metadata": {},
   "outputs": [],
   "source": [
    "nested_mc_gauss = NestedMonteCarlo(\n",
    "    simulate_scenario=gaussian_simulate_scenario,\n",
    "    simulate_inner_loss=gaussian_simulate_inner_loss,\n",
    "    loss_threshold=threshold_gauss,\n",
    "    inner_loss_std=gaussian_inner_std\n",
    ")"
   ]
  },
  {
   "attachments": {},
   "cell_type": "markdown",
   "metadata": {},
   "source": [
    "### Sanity check for all algorithms"
   ]
  },
  {
   "attachments": {},
   "cell_type": "markdown",
   "metadata": {},
   "source": [
    "Optimal values of $n$ and $m$ corresponding to the budget $k = 4 \\cdot 10^6$."
   ]
  },
  {
   "cell_type": "code",
   "execution_count": 32,
   "metadata": {},
   "outputs": [],
   "source": [
    "n_opt = 4499\n",
    "m_opt = 889"
   ]
  },
  {
   "cell_type": "code",
   "execution_count": 33,
   "metadata": {},
   "outputs": [
    {
     "data": {
      "text/plain": [
       "0.010446765947988441"
      ]
     },
     "execution_count": 33,
     "metadata": {},
     "output_type": "execute_result"
    }
   ],
   "source": [
    "# optimal uniform\n",
    "nested_mc_gauss.estimation_uniform(m=m_opt, n=n_opt)"
   ]
  },
  {
   "cell_type": "code",
   "execution_count": 34,
   "metadata": {},
   "outputs": [
    {
     "data": {
      "text/plain": [
       "0.010555974443430295"
      ]
     },
     "execution_count": 34,
     "metadata": {},
     "output_type": "execute_result"
    }
   ],
   "source": [
    "# 1/3:2/3 uniform\n",
    "nested_mc_gauss.estimation_uniform(m=159, n=25199)"
   ]
  },
  {
   "cell_type": "code",
   "execution_count": 35,
   "metadata": {},
   "outputs": [
    {
     "data": {
      "text/plain": [
       "0.009364873622812702"
      ]
     },
     "execution_count": 35,
     "metadata": {},
     "output_type": "execute_result"
    }
   ],
   "source": [
    "# sequential\n",
    "nested_mc_gauss.estimation_sequential(m_init=2, m_average=130, n=30860)"
   ]
  },
  {
   "cell_type": "code",
   "execution_count": 36,
   "metadata": {},
   "outputs": [
    {
     "data": {
      "text/plain": [
       "0.011780395643476329"
      ]
     },
     "execution_count": 36,
     "metadata": {},
     "output_type": "execute_result"
    }
   ],
   "source": [
    "# threshold\n",
    "nested_mc_gauss.estimation_threshold(error_margin=2, n=n_opt)"
   ]
  },
  {
   "cell_type": "code",
   "execution_count": 37,
   "metadata": {},
   "outputs": [
    {
     "data": {
      "text/plain": [
       "0.008849557522123894"
      ]
     },
     "execution_count": 37,
     "metadata": {},
     "output_type": "execute_result"
    }
   ],
   "source": [
    "# adaptative algorithm\n",
    "nested_mc_gauss.estimation_adaptive(n_0=500, m_0=2, tau_e=100_000, k=n_opt * m_opt)"
   ]
  },
  {
   "cell_type": "code",
   "execution_count": 38,
   "metadata": {},
   "outputs": [
    {
     "data": {
      "text/plain": [
       "0.009345794392523364"
      ]
     },
     "execution_count": 38,
     "metadata": {},
     "output_type": "execute_result"
    }
   ],
   "source": [
    "# adaptative algorithm with vol estimation\n",
    "nested_mc_gauss.estimation_adaptive(n_0=500, m_0=2, tau_e=100_000, k=n_opt * m_opt, estimate_inner_std=True)"
   ]
  },
  {
   "attachments": {},
   "cell_type": "markdown",
   "metadata": {},
   "source": [
    "## Put option example"
   ]
  },
  {
   "attachments": {},
   "cell_type": "markdown",
   "metadata": {},
   "source": [
    "In this example, we consider a portfolio consisting of a put option sold at $t = 0$ at a price $X_0$. We are interested in the loss at time $t = \\tau$, namely\n",
    "$$\n",
    "L(\\omega) = X_0 - \\mathbb{E}[e^{-r(T-\\tau)}(K - S_T(\\omega, W))^+],\n",
    "$$\n",
    "where\n",
    "$$\n",
    "S_T(\\omega, W) := S_\\tau(\\omega)e^{(r-\\sigma^2/2)(T-\\tau) + \\sigma\\sqrt{T-\\tau}W}, \\quad W \\sim\\mathcal{N}(0, 1),\n",
    "$$\n",
    "and the scenario describes the underlying price at $t =\\tau$ simulated under the historical probability:\n",
    "$$\n",
    "S_\\tau(\\omega) := S_0e^{(\\mu-\\sigma^2/2)\\tau + \\sigma\\sqrt{\\tau}\\omega}, \\quad \\omega \\sim\\mathcal{N}(0, 1).\n",
    "$$\n",
    "Hence, the inner loss sample takes the form\n",
    "$$\n",
    "Z_{i, j} = X_0 - e^{-r(T-\\tau)}(K - S_T(\\omega_i, W_{i, j}))^+.\n",
    "$$\n",
    "For this example, the computation of $\\sigma(\\omega_i)$ is reduced to the calculation of the second moment of $e^{-r(T-\\tau)}(K - S_T(\\omega_i, W_{i, j}))^+$ which was found to be equal to\n",
    "$$\n",
    "e^{-2r(T-\\tau)}K^2\\Phi(-d_-) - 2e^{-r(T-\\tau)}KS_\\tau\\Phi(-d_+) + e^{\\sigma^2(T-\\tau)}S_0^2\\Phi(-d_- - 2\\sigma\\sqrt{T-\\tau}),\n",
    "$$\n",
    "where $d_-$ and $d_+$ are given by standard Black-Scholes formula."
   ]
  },
  {
   "cell_type": "code",
   "execution_count": 39,
   "metadata": {},
   "outputs": [],
   "source": [
    "rng = np.random.default_rng(seed=0xBADBADBAD)\n",
    "\n",
    "S0 = 100\n",
    "K = 95\n",
    "T = 0.25\n",
    "tau = 1 / 52\n",
    "sigma = 0.2\n",
    "mu = 0.08\n",
    "r = 0.03\n",
    "X0 = 1.669 # by BS qformula\n",
    "\n",
    "@njit\n",
    "def put_simulate_scenario(size):\n",
    "    return S0 * np.exp(\n",
    "        (mu - 0.5 * sigma**2) * tau + \n",
    "         sigma * np.sqrt(tau) * np.random.randn(size)\n",
    "    )\n",
    "\n",
    "@njit\n",
    "def put_simulate_inner_loss(size, scenario):\n",
    "    S_T = scenario * np.exp(\n",
    "        (r - 0.5 * sigma**2) * (T - tau) + \n",
    "         sigma * np.sqrt(T - tau) * np.random.randn(size)\n",
    "    )\n",
    "    return X0 - np.exp(-r * (T - tau)) * np.maximum(0, K - S_T)\n",
    "\n",
    "@njit\n",
    "def bs_put(scenario):\n",
    "    \"\"\"\n",
    "    Calculates the value of the put option with expiration T and strike K at t = tau given the scenario S_tau.\n",
    "    \"\"\"\n",
    "    S_tau = scenario\n",
    "    d1 = (np.log(S_tau / K) + (r + 0.5 * sigma**2) * (T - tau)) / sigma / np.sqrt(T - tau)\n",
    "    d2 = (np.log(S_tau / K) + (r - 0.5 * sigma**2) * (T - tau)) / sigma / np.sqrt(T - tau)\n",
    "    return K * np.exp(-r * (T - tau)) * gaussian_cdf(-d2) - S_tau * gaussian_cdf(-d1)\n",
    "\n",
    "@njit\n",
    "def bs_inner_vol(scenario):\n",
    "    \"\"\"\n",
    "    Calculates standard deviation for a given scenario S_tau.\n",
    "    \"\"\"\n",
    "    S_tau = scenario\n",
    "    d1 = (np.log(S_tau / K) + (r + 0.5 * sigma**2) * (T - tau)) / sigma / np.sqrt(T - tau)\n",
    "    d2 = (np.log(S_tau / K) + (r - 0.5 * sigma**2) * (T - tau)) / sigma / np.sqrt(T - tau)\n",
    "    second_moment = np.exp(-2 * r * (T - tau)) * K**2 * gaussian_cdf(-d2) - 2 * K * S_tau * np.exp(-r * (T - tau)) * gaussian_cdf(-d1) + \\\n",
    "        S_tau**2 * np.exp(sigma**2 * (T - tau)) * gaussian_cdf(-d2 - 2 * sigma * np.sqrt(T - tau))\n",
    "    return np.sqrt(second_moment - bs_put(scenario)**2)\n",
    "\n",
    "@njit\n",
    "def bs_inner_vol_vect(scenarios):\n",
    "    return np.array(list(map(bs_inner_vol, scenarios)))\n",
    "\n",
    "threshold_put = 1.221 # corresponds to loss of 1%"
   ]
  },
  {
   "cell_type": "code",
   "execution_count": 40,
   "metadata": {},
   "outputs": [],
   "source": [
    "nested_mc_put = NestedMonteCarlo(\n",
    "    simulate_scenario=put_simulate_scenario,\n",
    "    simulate_inner_loss=put_simulate_inner_loss,\n",
    "    loss_threshold=threshold_put,\n",
    "    inner_loss_std=bs_inner_vol_vect\n",
    ")"
   ]
  },
  {
   "attachments": {},
   "cell_type": "markdown",
   "metadata": {},
   "source": [
    "### Sanity check for all algorithms"
   ]
  },
  {
   "cell_type": "code",
   "execution_count": 41,
   "metadata": {},
   "outputs": [],
   "source": [
    "n_opt = 3143\n",
    "m_opt = 1273"
   ]
  },
  {
   "cell_type": "code",
   "execution_count": 42,
   "metadata": {},
   "outputs": [
    {
     "data": {
      "text/plain": [
       "0.008272351256761056"
      ]
     },
     "execution_count": 42,
     "metadata": {},
     "output_type": "execute_result"
    }
   ],
   "source": [
    "# optimal uniform\n",
    "nested_mc_put.estimation_uniform(m=m_opt, n=n_opt)"
   ]
  },
  {
   "cell_type": "code",
   "execution_count": 43,
   "metadata": {},
   "outputs": [
    {
     "data": {
      "text/plain": [
       "0.01992142545339101"
      ]
     },
     "execution_count": 43,
     "metadata": {},
     "output_type": "execute_result"
    }
   ],
   "source": [
    "# 1/3:2/3 uniform\n",
    "nested_mc_put.estimation_uniform(m=159, n=25199)"
   ]
  },
  {
   "cell_type": "code",
   "execution_count": 49,
   "metadata": {},
   "outputs": [
    {
     "data": {
      "text/plain": [
       "0.00884548522343798"
      ]
     },
     "execution_count": 49,
     "metadata": {},
     "output_type": "execute_result"
    }
   ],
   "source": [
    "# sequential\n",
    "nested_mc_put.estimation_sequential(m_init=2, n=19558, m_average=205)"
   ]
  },
  {
   "cell_type": "code",
   "execution_count": 45,
   "metadata": {},
   "outputs": [
    {
     "data": {
      "text/plain": [
       "0.012408526885141585"
      ]
     },
     "execution_count": 45,
     "metadata": {},
     "output_type": "execute_result"
    }
   ],
   "source": [
    "# threshold\n",
    "nested_mc_put.estimation_threshold(error_margin=50, n=n_opt)"
   ]
  },
  {
   "cell_type": "code",
   "execution_count": 46,
   "metadata": {},
   "outputs": [
    {
     "data": {
      "text/plain": [
       "0.00873946123791898"
      ]
     },
     "execution_count": 46,
     "metadata": {},
     "output_type": "execute_result"
    }
   ],
   "source": [
    "# adaptative algorithm\n",
    "nested_mc_put.estimation_adaptive(n_0=500, m_0=2, tau_e=10_000, k=n_opt * m_opt)"
   ]
  },
  {
   "cell_type": "code",
   "execution_count": 47,
   "metadata": {},
   "outputs": [
    {
     "data": {
      "text/plain": [
       "0.010993106018259735"
      ]
     },
     "execution_count": 47,
     "metadata": {},
     "output_type": "execute_result"
    }
   ],
   "source": [
    "# adaptative algorithm with vol estimation\n",
    "nested_mc_put.estimation_adaptive(n_0=500, m_0=2, tau_e=100_000, k=n_opt * m_opt, estimate_inner_std=True)"
   ]
  },
  {
   "attachments": {},
   "cell_type": "markdown",
   "metadata": {},
   "source": [
    "### Number of inner stage samples "
   ]
  },
  {
   "attachments": {},
   "cell_type": "markdown",
   "metadata": {},
   "source": [
    "Here we illustrates the allocation of the inner losses sample sizes for the sequential method as a function of $L(\\omega)$ for both examples we consider.\n",
    "\n",
    "The obtained results correspond well to the plots provided in the article."
   ]
  },
  {
   "cell_type": "code",
   "execution_count": 21,
   "metadata": {},
   "outputs": [],
   "source": [
    "_, inner_losses_mean_gauss, m_array_gauss = nested_mc_gauss.estimation_sequential(m_init=10, m_average=m_opt, n=n_opt, return_info=True)\n",
    "_, inner_losses_mean_put, m_array_put = nested_mc_put.estimation_sequential(m_init=10, m_average=m_opt, n=n_opt, return_info=True)"
   ]
  },
  {
   "cell_type": "code",
   "execution_count": 28,
   "metadata": {},
   "outputs": [
    {
     "data": {
      "image/png": "[encoded data removed]",
      "text/plain": [
       "<Figure size 1500x500 with 2 Axes>"
      ]
     },
     "metadata": {},
     "output_type": "display_data"
    }
   ],
   "source": [
    "fix, ax = plt.subplots(1, 2, figsize=(15, 5))\n",
    "\n",
    "ax[0].plot(inner_losses_mean_gauss, m_array_gauss, '.', label='Sequential')\n",
    "ax[0].vlines(x=threshold_gauss, ymin=0, ymax=12000, color='r', label='Threshold')\n",
    "ax[0].hlines(m_opt, -7, 4, color='k', ls='--', label='Uniform')\n",
    "ax[0].legend()\n",
    "ax[0].set_title(r'Gaussian exemple, $\\alpha = 1\\%$')\n",
    "ax[0].set_xlabel('Average loss $L(\\omega_i)$')\n",
    "ax[0].set_ylabel('Number of inner stage samples m')\n",
    "ax[0].set_yscale('log')\n",
    "\n",
    "ax[1].plot(inner_losses_mean_put, m_array_put, '.', label='Sequential')\n",
    "ax[1].vlines(x=threshold_put, ymin=0, ymax=12000, color='r', label='Threshold')\n",
    "ax[1].hlines(m_opt, -7, 2, color='k', ls='--', label='Uniform')\n",
    "ax[1].legend()\n",
    "ax[1].set_title(r'Put option exemple, $\\alpha = 1\\%$')\n",
    "ax[1].set_xlabel('Average loss $L(\\omega_i)$')\n",
    "ax[1].set_ylabel('Number of inner stage samples m')\n",
    "ax[1].set_yscale('log')"
   ]
  },
  {
   "attachments": {},
   "cell_type": "markdown",
   "metadata": {},
   "source": [
    "### Calculating statistics for each method"
   ]
  },
  {
   "attachments": {},
   "cell_type": "markdown",
   "metadata": {},
   "source": [
    "As the running of each algorithm takes a lot of time, we needed several iterations to collect the data. Note also, that due to the extremely low speed of the sequential algorithm with the optimal parameters, we have less samples for it and the adaptive algorithm.  "
   ]
  },
  {
   "cell_type": "code",
   "execution_count": 8,
   "metadata": {},
   "outputs": [],
   "source": [
    "problems = ['gaussian', 'put']\n",
    "methods_names = ['uniform_optimal', 'uniform_1/3:2/3', 'adaptative', 'adaptative+vol_estim', 'optimal_sequential']\n",
    "number_of_iters = {\n",
    "    'gaussian_uniform_optimal': 0,\n",
    "    'gaussian_uniform_1/3:2/3': 0,\n",
    "    'gaussian_adaptative': 0,\n",
    "    'gaussian_adaptative+vol_estim': 0,\n",
    "    'gaussian_optimal_sequential': 0,\n",
    "    'put_uniform_optimal': 0,\n",
    "    'put_uniform_1/3:2/3': 0,\n",
    "    'put_adaptative': 0,\n",
    "    'put_adaptative+vol_estim': 0,\n",
    "    'put_optimal_sequential': 0\n",
    "}\n",
    "\n",
    "methods = {\n",
    "    'gaussian_uniform_optimal': lambda: nested_mc_gauss.estimation_uniform(n=5089, m=786),\n",
    "    'gaussian_uniform_1/3:2/3': lambda: nested_mc_gauss.estimation_uniform(n=25199, m=159),\n",
    "    'gaussian_adaptative': lambda: nested_mc_gauss.estimation_adaptive(n_0=500, m_0=2, tau_e=10_000, k=4_000_000),\n",
    "    'gaussian_adaptative+vol_estim': lambda: nested_mc_gauss.estimation_adaptive(n_0=500, m_0=2, tau_e=10_000, k=4_000_000, estimate_inner_std=True),\n",
    "    'gaussian_optimal_sequential': lambda: nested_mc_gauss.estimation_sequential(m_init=2, n=30860, m_average=130),\n",
    "    'put_uniform_optimal': lambda: nested_mc_put.estimation_uniform(n=3143, m=1273),\n",
    "    'put_uniform_1/3:2/3': lambda: nested_mc_put.estimation_uniform(n=25199, m=159),\n",
    "    'put_adaptative': lambda: nested_mc_put.estimation_adaptive(n_0=500, m_0=2, tau_e=10_000, k=4_000_000),\n",
    "    'put_adaptative+vol_estim': lambda: nested_mc_put.estimation_adaptive(n_0=500, m_0=2, tau_e=10_000, k=4_000_000, estimate_inner_std=True),\n",
    "    'put_optimal_sequential': lambda: nested_mc_put.estimation_sequential(m_init=2, n=19558, m_average=205)\n",
    "}\n",
    "\n",
    "with open('stats.json') as json_file:\n",
    "    stats = json.load(json_file)"
   ]
  },
  {
   "cell_type": "code",
   "execution_count": 9,
   "metadata": {},
   "outputs": [
    {
     "name": "stdout",
     "output_type": "stream",
     "text": [
      "gaussian uniform_optimal\n"
     ]
    },
    {
     "name": "stderr",
     "output_type": "stream",
     "text": [
      "0it [00:00, ?it/s]\n"
     ]
    },
    {
     "name": "stdout",
     "output_type": "stream",
     "text": [
      "put uniform_optimal\n"
     ]
    },
    {
     "name": "stderr",
     "output_type": "stream",
     "text": [
      "0it [00:00, ?it/s]\n"
     ]
    },
    {
     "name": "stdout",
     "output_type": "stream",
     "text": [
      "gaussian uniform_1/3:2/3\n"
     ]
    },
    {
     "name": "stderr",
     "output_type": "stream",
     "text": [
      "0it [00:00, ?it/s]\n"
     ]
    },
    {
     "name": "stdout",
     "output_type": "stream",
     "text": [
      "put uniform_1/3:2/3\n"
     ]
    },
    {
     "name": "stderr",
     "output_type": "stream",
     "text": [
      "0it [00:00, ?it/s]\n"
     ]
    },
    {
     "name": "stdout",
     "output_type": "stream",
     "text": [
      "gaussian adaptative\n"
     ]
    },
    {
     "name": "stderr",
     "output_type": "stream",
     "text": [
      "0it [00:00, ?it/s]\n"
     ]
    },
    {
     "name": "stdout",
     "output_type": "stream",
     "text": [
      "put adaptative\n"
     ]
    },
    {
     "name": "stderr",
     "output_type": "stream",
     "text": [
      "0it [00:00, ?it/s]\n"
     ]
    },
    {
     "name": "stdout",
     "output_type": "stream",
     "text": [
      "gaussian adaptative+vol_estim\n"
     ]
    },
    {
     "name": "stderr",
     "output_type": "stream",
     "text": [
      "0it [00:00, ?it/s]\n"
     ]
    },
    {
     "name": "stdout",
     "output_type": "stream",
     "text": [
      "put adaptative+vol_estim\n"
     ]
    },
    {
     "name": "stderr",
     "output_type": "stream",
     "text": [
      "0it [00:00, ?it/s]\n"
     ]
    },
    {
     "name": "stdout",
     "output_type": "stream",
     "text": [
      "gaussian optimal_sequential\n"
     ]
    },
    {
     "name": "stderr",
     "output_type": "stream",
     "text": [
      "0it [00:00, ?it/s]\n"
     ]
    },
    {
     "name": "stdout",
     "output_type": "stream",
     "text": [
      "put optimal_sequential\n"
     ]
    },
    {
     "name": "stderr",
     "output_type": "stream",
     "text": [
      "0it [00:00, ?it/s]\n"
     ]
    }
   ],
   "source": [
    "for method_name in methods_names:\n",
    "    for problem in problems:\n",
    "        print(problem, method_name)\n",
    "        for _ in tqdm(range(number_of_iters[problem + '_' + method_name])):\n",
    "            method = methods[problem + '_' + method_name]\n",
    "            stats[problem][method_name].append(method())\n",
    "\n",
    "        with open(\"stats.json\", \"w\") as outfile: \n",
    "            json.dump(stats, outfile)"
   ]
  },
  {
   "attachments": {},
   "cell_type": "markdown",
   "metadata": {},
   "source": [
    "### Stats analysis"
   ]
  },
  {
   "attachments": {},
   "cell_type": "markdown",
   "metadata": {},
   "source": [
    "In this section, we compare the statistics such as variance, bias and MSE for each of the implemented methods."
   ]
  },
  {
   "cell_type": "code",
   "execution_count": 10,
   "metadata": {},
   "outputs": [],
   "source": [
    "with open('stats.json') as json_file:\n",
    "    stats = json.load(json_file)"
   ]
  },
  {
   "cell_type": "code",
   "execution_count": 11,
   "metadata": {},
   "outputs": [],
   "source": [
    "true_alpha = 0.01\n",
    "\n",
    "def bias_squared(alphas):\n",
    "    return (np.mean(alphas) - true_alpha)**2\n",
    "\n",
    "def mse(alphas):\n",
    "    return np.mean((np.array(alphas) - true_alpha)**2)\n",
    "\n",
    "def variance(alphas):\n",
    "    return np.var(alphas)"
   ]
  },
  {
   "cell_type": "code",
   "execution_count": 12,
   "metadata": {},
   "outputs": [],
   "source": [
    "results_dfs = {}\n",
    "\n",
    "for problem in problems:\n",
    "    data = []\n",
    "    for method_name in methods_names:\n",
    "        alphas = stats[problem][method_name]\n",
    "        data.append([func(alphas) for func in [bias_squared, variance, mse]])\n",
    "\n",
    "    results_dfs[problem] = pd.DataFrame(data, columns=['Bias squared', 'Variance', 'MSE'], index=methods_names)"
   ]
  },
  {
   "cell_type": "code",
   "execution_count": 17,
   "metadata": {},
   "outputs": [
    {
     "name": "stdout",
     "output_type": "stream",
     "text": [
      "Gaussian example: statistics\n"
     ]
    },
    {
     "data": {
      "text/html": [
       "<div>\n",
       "<style scoped>\n",
       "    .dataframe tbody tr th:only-of-type {\n",
       "        vertical-align: middle;\n",
       "    }\n",
       "\n",
       "    .dataframe tbody tr th {\n",
       "        vertical-align: top;\n",
       "    }\n",
       "\n",
       "    .dataframe thead th {\n",
       "        text-align: right;\n",
       "    }\n",
       "</style>\n",
       "<table border=\"1\" class=\"dataframe\">\n",
       "  <thead>\n",
       "    <tr style=\"text-align: right;\">\n",
       "      <th></th>\n",
       "      <th>Bias squared</th>\n",
       "      <th>Variance</th>\n",
       "      <th>MSE</th>\n",
       "    </tr>\n",
       "  </thead>\n",
       "  <tbody>\n",
       "    <tr>\n",
       "      <th>uniform_optimal</th>\n",
       "      <td>2.282883e-08</td>\n",
       "      <td>1.963741e-06</td>\n",
       "      <td>1.986569e-06</td>\n",
       "    </tr>\n",
       "    <tr>\n",
       "      <th>uniform_1/3:2/3</th>\n",
       "      <td>1.006678e-06</td>\n",
       "      <td>4.492207e-07</td>\n",
       "      <td>1.455899e-06</td>\n",
       "    </tr>\n",
       "    <tr>\n",
       "      <th>adaptative</th>\n",
       "      <td>1.686015e-08</td>\n",
       "      <td>6.616883e-07</td>\n",
       "      <td>6.785484e-07</td>\n",
       "    </tr>\n",
       "    <tr>\n",
       "      <th>adaptative+vol_estim</th>\n",
       "      <td>4.930910e-09</td>\n",
       "      <td>7.672919e-07</td>\n",
       "      <td>7.722228e-07</td>\n",
       "    </tr>\n",
       "    <tr>\n",
       "      <th>optimal_sequential</th>\n",
       "      <td>2.749557e-09</td>\n",
       "      <td>3.028519e-07</td>\n",
       "      <td>3.056015e-07</td>\n",
       "    </tr>\n",
       "  </tbody>\n",
       "</table>\n",
       "</div>"
      ],
      "text/plain": [
       "                      Bias squared      Variance           MSE\n",
       "uniform_optimal       2.282883e-08  1.963741e-06  1.986569e-06\n",
       "uniform_1/3:2/3       1.006678e-06  4.492207e-07  1.455899e-06\n",
       "adaptative            1.686015e-08  6.616883e-07  6.785484e-07\n",
       "adaptative+vol_estim  4.930910e-09  7.672919e-07  7.722228e-07\n",
       "optimal_sequential    2.749557e-09  3.028519e-07  3.056015e-07"
      ]
     },
     "execution_count": 17,
     "metadata": {},
     "output_type": "execute_result"
    }
   ],
   "source": [
    "print('Gaussian example: statistics')\n",
    "results_dfs[problems[0]] # gauss"
   ]
  },
  {
   "cell_type": "code",
   "execution_count": 18,
   "metadata": {},
   "outputs": [
    {
     "name": "stdout",
     "output_type": "stream",
     "text": [
      "Put option example: statistics\n"
     ]
    },
    {
     "data": {
      "text/html": [
       "<div>\n",
       "<style scoped>\n",
       "    .dataframe tbody tr th:only-of-type {\n",
       "        vertical-align: middle;\n",
       "    }\n",
       "\n",
       "    .dataframe tbody tr th {\n",
       "        vertical-align: top;\n",
       "    }\n",
       "\n",
       "    .dataframe thead th {\n",
       "        text-align: right;\n",
       "    }\n",
       "</style>\n",
       "<table border=\"1\" class=\"dataframe\">\n",
       "  <thead>\n",
       "    <tr style=\"text-align: right;\">\n",
       "      <th></th>\n",
       "      <th>Bias squared</th>\n",
       "      <th>Variance</th>\n",
       "      <th>MSE</th>\n",
       "    </tr>\n",
       "  </thead>\n",
       "  <tbody>\n",
       "    <tr>\n",
       "      <th>uniform_optimal</th>\n",
       "      <td>1.109091e-06</td>\n",
       "      <td>3.401587e-06</td>\n",
       "      <td>4.510678e-06</td>\n",
       "    </tr>\n",
       "    <tr>\n",
       "      <th>uniform_1/3:2/3</th>\n",
       "      <td>9.150180e-05</td>\n",
       "      <td>7.680689e-07</td>\n",
       "      <td>9.226987e-05</td>\n",
       "    </tr>\n",
       "    <tr>\n",
       "      <th>adaptative</th>\n",
       "      <td>3.770370e-08</td>\n",
       "      <td>1.102633e-06</td>\n",
       "      <td>1.140336e-06</td>\n",
       "    </tr>\n",
       "    <tr>\n",
       "      <th>adaptative+vol_estim</th>\n",
       "      <td>1.390654e-08</td>\n",
       "      <td>9.816640e-07</td>\n",
       "      <td>9.955705e-07</td>\n",
       "    </tr>\n",
       "    <tr>\n",
       "      <th>optimal_sequential</th>\n",
       "      <td>1.918015e-07</td>\n",
       "      <td>5.331615e-07</td>\n",
       "      <td>7.249630e-07</td>\n",
       "    </tr>\n",
       "  </tbody>\n",
       "</table>\n",
       "</div>"
      ],
      "text/plain": [
       "                      Bias squared      Variance           MSE\n",
       "uniform_optimal       1.109091e-06  3.401587e-06  4.510678e-06\n",
       "uniform_1/3:2/3       9.150180e-05  7.680689e-07  9.226987e-05\n",
       "adaptative            3.770370e-08  1.102633e-06  1.140336e-06\n",
       "adaptative+vol_estim  1.390654e-08  9.816640e-07  9.955705e-07\n",
       "optimal_sequential    1.918015e-07  5.331615e-07  7.249630e-07"
      ]
     },
     "execution_count": 18,
     "metadata": {},
     "output_type": "execute_result"
    }
   ],
   "source": [
    "print('Put option example: statistics')\n",
    "results_dfs[problems[1]] # put"
   ]
  },
  {
   "cell_type": "code",
   "execution_count": 24,
   "metadata": {},
   "outputs": [
    {
     "data": {
      "image/png": "[encoded data removed]",
      "text/plain": [
       "<Figure size 1500x800 with 2 Axes>"
      ]
     },
     "metadata": {},
     "output_type": "display_data"
    }
   ],
   "source": [
    "fig, ax = plt.subplots(1, 2, figsize=(15, 8))\n",
    "colors = ['b', 'g', 'r', 'c', 'm']\n",
    "\n",
    "for j, method_name in enumerate(methods_names):\n",
    "    for i, pb in enumerate(problems):\n",
    "        ax[i].hist(stats[pb][method_name], label=method_name, alpha=0.3, density=True, color=colors[j])\n",
    "        ax[i].grid()\n",
    "        ax[i].set_title(pb + r', $\\alpha=1\\%$.')\n",
    "\n",
    "ax[0].vlines(0.01, 0, 850, 'k', label='alpha')\n",
    "ax[1].vlines(0.01, 0, 650, 'k', label='alpha')\n",
    "ax[0].legend()\n",
    "ax[1].legend()\n",
    "plt.show()"
   ]
  },
  {
   "attachments": {},
   "cell_type": "markdown",
   "metadata": {},
   "source": [
    "### Conclusions"
   ]
  },
  {
   "attachments": {},
   "cell_type": "markdown",
   "metadata": {},
   "source": [
    "- Statistics obtained for the case $\\alpha = 1\\%$ for both problems are consistent with the ones provided by the authors of the article.\n",
    "- We see a very large bias that appears when using the uniform 1/3:2/3 method although its theoretical asymptotics is the same as for the optimal uniform algorithm. The error is even more dramatic for the put option example, possibly to the asymmetric and skewed loss distribution. We also note that optimal uniform algorithm demonstrates much more accurate results. This emphasizes the importance of the constant $\\beta$ in the allocation which is, as we already mentioned, typically not available.\n",
    "- The results above allow us to conclude that the adaptive method demonstrates a very good performance though it is not provided any information nor about optimal value of $n$, nor about the volatility $\\sigma$.\n",
    "- However, it should be mentioned that all the sequential methods (all apart from the uniform) are much more time-consuming since the losses are simulated one-by-one rather than as arrays. Even with git-compilation, the execution times for sequantial and non-sequential methods differ by orders of magnitude. In order to make them comparable, one should either implement the methods in C/C++ or use languages such as cython.\n",
    "- Nevertheless, if comparing algorithms only in terms of budget, the simulation results provide strong evidence that sequential methods significantly outperform the uniform ones."
   ]
  }
 ],
 "metadata": {
  "kernelspec": {
   "display_name": "base",
   "language": "python",
   "name": "python3"
  },
  "language_info": {
   "codemirror_mode": {
    "name": "ipython",
    "version": 3
   },
   "file_extension": ".py",
   "mimetype": "text/x-python",
   "name": "python",
   "nbconvert_exporter": "python",
   "pygments_lexer": "ipython3",
   "version": "3.8.5"
  },
  "orig_nbformat": 4
 },
 "nbformat": 4,
 "nbformat_minor": 2
}
